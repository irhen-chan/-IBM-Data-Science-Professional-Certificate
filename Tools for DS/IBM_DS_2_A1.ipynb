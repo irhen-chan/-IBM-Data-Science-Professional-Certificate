{
 "cells": [
  {
   "cell_type": "markdown",
   "id": "61dcc8a5",
   "metadata": {},
   "source": [
    "# Data Science Tools and Ecosystem\n"
   ]
  },
  {
   "cell_type": "markdown",
   "id": "81ef707e",
   "metadata": {},
   "source": [
    "This notebook provides an overview of the tools, libraries, and languages commonly used in data science.\n"
   ]
  },
  {
   "cell_type": "markdown",
   "id": "6ff4a2b6",
   "metadata": {},
   "source": [
    "## Data Science Languages:\n",
    "- Python\n",
    "- R\n",
    "- SQL\n",
    "- Julia\n",
    "- Java"
   ]
  },
  {
   "cell_type": "markdown",
   "id": "ffbf7dcc",
   "metadata": {},
   "source": [
    "## Data Science Libraries:\n",
    "- Pandas\n",
    "- NumPy\n",
    "- Matplotlib\n",
    "- Scikit-learn\n",
    "- TensorFlow"
   ]
  },
  {
   "cell_type": "markdown",
   "id": "08365ad2",
   "metadata": {},
   "source": [
    "## Data Science Tools:\n",
    "| Tool             | Description                      |\n",
    "|------------------|----------------------------------|\n",
    "| Jupyter Notebook | Interactive environment for coding|\n",
    "| RStudio          | IDE for R language              |\n",
    "| Apache Spark     | Distributed data processing tool |\n"
   ]
  },
  {
   "cell_type": "markdown",
   "id": "55fc787c",
   "metadata": {},
   "source": [
    "## Examples of Arithmetic Expressions:\n",
    "Below are examples of basic arithmetic operations such as addition and multiplication.\n"
   ]
  },
  {
   "cell_type": "code",
   "execution_count": 1,
   "id": "69ef3926",
   "metadata": {},
   "outputs": [
    {
     "data": {
      "text/plain": [
       "4"
      ]
     },
     "execution_count": 1,
     "metadata": {},
     "output_type": "execute_result"
    }
   ],
   "source": [
    "1+3 "
   ]
  },
  {
   "cell_type": "code",
   "execution_count": 2,
   "id": "71d36083",
   "metadata": {},
   "outputs": [
    {
     "data": {
      "text/plain": [
       "8"
      ]
     },
     "execution_count": 2,
     "metadata": {},
     "output_type": "execute_result"
    }
   ],
   "source": [
    "4*2"
   ]
  },
  {
   "cell_type": "code",
   "execution_count": 3,
   "id": "db7c2f8d",
   "metadata": {},
   "outputs": [
    {
     "name": "stdout",
     "output_type": "stream",
     "text": [
      "200 minutes is equal to 3.3333333333333335 hours.\n"
     ]
    }
   ],
   "source": [
    "# Convert 200 minutes to hours\n",
    "minutes = 200\n",
    "hours = minutes / 60\n",
    "print(f\"{minutes} minutes is equal to {hours} hours.\")\n"
   ]
  },
  {
   "cell_type": "markdown",
   "id": "1b06c8bf",
   "metadata": {},
   "source": [
    "## Objectives:\n",
    "- Understand the ecosystem of data science tools.\n",
    "- Learn about popular data science libraries and languages.\n",
    "- Perform basic arithmetic operations using Python.\n"
   ]
  },
  {
   "cell_type": "markdown",
   "id": "9e63d689",
   "metadata": {},
   "source": [
    "## Author:\n",
    "Snehar Singh Gujral\n"
   ]
  },
  {
   "cell_type": "code",
   "execution_count": null,
   "id": "577b9a2f",
   "metadata": {},
   "outputs": [],
   "source": []
  }
 ],
 "metadata": {
  "kernelspec": {
   "display_name": "Python 3 (ipykernel)",
   "language": "python",
   "name": "python3"
  },
  "language_info": {
   "codemirror_mode": {
    "name": "ipython",
    "version": 3
   },
   "file_extension": ".py",
   "mimetype": "text/x-python",
   "name": "python",
   "nbconvert_exporter": "python",
   "pygments_lexer": "ipython3",
   "version": "3.9.12"
  }
 },
 "nbformat": 4,
 "nbformat_minor": 5
}
